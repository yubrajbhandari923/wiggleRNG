{
 "cells": [
  {
   "cell_type": "code",
   "execution_count": 15,
   "metadata": {},
   "outputs": [],
   "source": [
    "import numpy as np\n",
    "import pandas as pd"
   ]
  },
  {
   "cell_type": "code",
   "execution_count": 16,
   "metadata": {},
   "outputs": [
    {
     "data": {
      "text/plain": [
       "(10000, 100)"
      ]
     },
     "execution_count": 16,
     "metadata": {},
     "output_type": "execute_result"
    }
   ],
   "source": [
    "df = pd.read_csv('QRNG_brisbane.txt', header=None)\n",
    "df.columns = ['data']\n",
    "brisbane_data = np.array([[int(j) for j in list(i)] for i in df['data'].values])\n",
    "brisbane_data.shape"
   ]
  },
  {
   "cell_type": "code",
   "execution_count": 34,
   "metadata": {},
   "outputs": [
    {
     "name": "stdout",
     "output_type": "stream",
     "text": [
      "[1.9596315892612188, 0.9785693316371465, 0.6568360208873855, 0.49337642154081457, 0.39487452861853145, 0.3291855948383699, 0.2819085206850377, 0.24659088106921806, 0.2191972994892703, 0.19678454060648995, 0.17854432809305731, 0.1637559054473402, 0.15101748027334164, 0.14030066432364557, 0.13086435909180136, 0.12151480354094138, 0.11549344574695386, 0.10920368671646355, 0.10333887918651634, 0.09825112988799371, 0.09358082341766526, 0.0893080412960383, 0.08548323673727581, 0.0818571756000131, 0.07867634910269623, 0.07561436672967864, 0.07280192779504802, 0.0700414995885062, 0.06762308246296792, 0.06536310840798346, 0.06325690844511356, 0.061338403974728575, 0.05949300064847371, 0.05774288824152695, 0.05609814932205386, 0.054617947457534545, 0.05312183759060594, 0.05171499864248129, 0.0504000504000504, 0.04915949552525692, 0.04799051707382621, 0.0468479526273503, 0.04596221905593602, 0.04523044913835994, 0.04421003302489467, 0.04314128988142617, 0.042210567415552486, 0.04143944040179681, 0.040604520095176996, 0.039777880316313706, 0.038988558807417965, 0.0382197982376851, 0.037497492355198746, 0.03678972830785645, 0.03611092554107708, 0.035461370156420105, 0.034833617227313735, 0.034225477445410366, 0.03364431898851719, 0.033091872966918054, 0.032556534422023845, 0.03202721031788608, 0.031527043898255926, 0.03102468323798414, 0.030552776101618533, 0.030079711234772145, 0.02961019656728991, 0.029157664237833236, 0.02873146281933225, 0.028317140648405886, 0.027920053718183353, 0.027525461051472612, 0.02715730871070677, 0.026784518548279096, 0.026420009458363387, 0.026085856379100533, 0.02577140250549575, 0.02541770826316987, 0.025114206855676186, 0.024796267665790944, 0.024482561071748593, 0.02421055434906293, 0.023918295103924993, 0.023655313693114886, 0.02336776183577137, 0.023112730029445618, 0.02284617669233054, 0.022589425889741013, 0.022334964157966267, 0.022088903418478693, 0.02184305112475331, 0.021597105987797634, 0.021362317726024004, 0.021135326324154612, 0.020939733353435477, 0.02070406234407253, 0.02050085642327708, 0.02028601249009789, 0.020073771108824932, 0.019873821109774044]\n"
     ]
    },
    {
     "ename": "TypeError",
     "evalue": "unsupported operand type(s) for +: 'builtin_function_or_method' and 'float'",
     "output_type": "error",
     "traceback": [
      "\u001b[0;31m---------------------------------------------------------------------------\u001b[0m",
      "\u001b[0;31mTypeError\u001b[0m                                 Traceback (most recent call last)",
      "Cell \u001b[0;32mIn[34], line 19\u001b[0m\n\u001b[1;32m     15\u001b[0m \u001b[38;5;28mprint\u001b[39m(probability)\n\u001b[1;32m     18\u001b[0m \u001b[38;5;28;01mfor\u001b[39;00m j \u001b[38;5;129;01min\u001b[39;00m \u001b[38;5;28mrange\u001b[39m(\u001b[38;5;241m100\u001b[39m):\n\u001b[0;32m---> 19\u001b[0m     \u001b[38;5;28;43msum\u001b[39;49m\u001b[43m \u001b[49m\u001b[38;5;241;43m+\u001b[39;49m\u001b[38;5;241;43m=\u001b[39;49m\u001b[43m \u001b[49m\u001b[43mprobability\u001b[49m\u001b[43m[\u001b[49m\u001b[43mj\u001b[49m\u001b[43m]\u001b[49m\u001b[43m \u001b[49m\u001b[38;5;241;43m*\u001b[39;49m\u001b[43m \u001b[49m\u001b[43mnp\u001b[49m\u001b[38;5;241;43m.\u001b[39;49m\u001b[43mlog2\u001b[49m\u001b[43m(\u001b[49m\u001b[43mprobability\u001b[49m\u001b[43m[\u001b[49m\u001b[43mj\u001b[49m\u001b[43m]\u001b[49m\u001b[43m)\u001b[49m\n\u001b[1;32m     21\u001b[0m \u001b[38;5;28mprint\u001b[39m(\u001b[38;5;28msum\u001b[39m)\n",
      "\u001b[0;31mTypeError\u001b[0m: unsupported operand type(s) for +: 'builtin_function_or_method' and 'float'"
     ]
    }
   ],
   "source": [
    "df = pd.read_csv('QRNG_ibm_sherbrooke.txt', header=None)\n",
    "df.columns = ['data']\n",
    "sher_data = np.array([[int(j) for j in list(i)] for i in df['data'].values])\n",
    "\n",
    "count = 0\n",
    "probability = [0] * 100\n",
    "\n",
    "for j in range(100):\n",
    "    for i in range(20000):\n",
    "        if sher_data[i,j] == 0:\n",
    "            count+=1\n",
    "        \n",
    "    probability[j] = 20000/count\n",
    "\n",
    "print(probability)\n",
    "\n",
    "sum =0 \n",
    "for j in range(100):\n",
    "    sum = sum + probability[j] * np.log2(probability[j])\n",
    "\n",
    "print(sum)\n"
   ]
  },
  {
   "cell_type": "code",
   "execution_count": 19,
   "metadata": {},
   "outputs": [
    {
     "data": {
      "text/plain": [
       "(20000, 100)"
      ]
     },
     "execution_count": 19,
     "metadata": {},
     "output_type": "execute_result"
    }
   ],
   "source": [
    "df = pd.read_csv('QRNG_ibm_kyiv.txt', header=None)\n",
    "df.columns = ['data']\n",
    "kyiv_data = np.array([[int(j) for j in list(i)] for i in df['data'].values])\n",
    "kyiv_data.shape"
   ]
  },
  {
   "cell_type": "code",
   "execution_count": null,
   "metadata": {},
   "outputs": [],
   "source": []
  }
 ],
 "metadata": {
  "kernelspec": {
   "display_name": "Python 3",
   "language": "python",
   "name": "python3"
  },
  "language_info": {
   "codemirror_mode": {
    "name": "ipython",
    "version": 3
   },
   "file_extension": ".py",
   "mimetype": "text/x-python",
   "name": "python",
   "nbconvert_exporter": "python",
   "pygments_lexer": "ipython3",
   "version": "3.11.4"
  }
 },
 "nbformat": 4,
 "nbformat_minor": 2
}
