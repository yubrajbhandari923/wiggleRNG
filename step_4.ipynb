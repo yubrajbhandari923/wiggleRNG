{
 "cells": [
  {
   "cell_type": "markdown",
   "metadata": {},
   "source": [
    "# Step 4"
   ]
  },
  {
   "cell_type": "code",
   "execution_count": 15,
   "metadata": {},
   "outputs": [],
   "source": [
    "import pandas as pd\n",
    "import numpy as np\n",
    "import zlib"
   ]
  },
  {
   "cell_type": "code",
   "execution_count": 39,
   "metadata": {},
   "outputs": [
    {
     "name": "stdout",
     "output_type": "stream",
     "text": [
      "IBM Sherbrooke\n",
      "Compression ratio: 0.1801\n"
     ]
    }
   ],
   "source": [
    "qrng = pd.read_csv('data/QRNG_ibm_sherbrooke.txt', sep=\" \", header=None)\n",
    "qrng.columns = ['bits']\n",
    "qrng['bits'] = qrng['bits'].astype(str)\n",
    "qrng_ = qrng['bits'].to_numpy()\n",
    "qrng_ = qrng_.flatten()\n",
    "qrng_ = [int(i,2) for i in qrng_]\n",
    "\n",
    "def compressibility_test(data, name=\"\"):\n",
    "    # Convert the data (list of integers) to byte format\n",
    "    data_bytes = np.array(data).tobytes()\n",
    "\n",
    "    # Compress the data using zlib (Lempel-Ziv-Welch algorithm)\n",
    "    compressed_data = zlib.compress(data_bytes)\n",
    "\n",
    "    # Calculate compression ratio (higher ratio means data is compressible)\n",
    "    compression_ratio = len(compressed_data) / len(data_bytes)\n",
    "    print(f\"IBM {name}\")\n",
    "    print(f\"Compression ratio: {compression_ratio:.4f}\")\n",
    "    \n",
    "    # if compression_ratio < 1:\n",
    "    #     print(\"The data is highly compressible, indicating non-random structure.\")\n",
    "    # else:\n",
    "    #     print(\"The data is not compressible, indicating high randomness.\")\n",
    "    \n",
    "    return compression_ratio\n",
    "\n",
    "# Now call the compressibility test\n",
    "compression_ratio = compressibility_test(qrng_, name=\"Sherbrooke\")\n",
    "\n"
   ]
  },
  {
   "cell_type": "code",
   "execution_count": 3,
   "metadata": {},
   "outputs": [
    {
     "name": "stdout",
     "output_type": "stream",
     "text": [
      "IBM Brisbane QRNG Data:\n",
      "Chi-Square Statistic: 233.323202\n",
      "p-value: 1.1236465559101107e-52\n",
      "Observed Counts: [989199, 1010801]\n",
      "Expected Counts: [1000000.0, 1000000.0]\n"
     ]
    }
   ],
   "source": [
    "import scipy.stats as stats\n",
    "import pandas as pd\n",
    "import numpy as np\n",
    "\n",
    "# Load QRNG data (assuming it is stored as binary strings in each row)\n",
    "qrng = pd.read_csv('data/QRNG_ibm_brisbane.txt', header=None, dtype=str)\n",
    "\n",
    "# Convert the binary strings to a list of integers (0s and 1s)\n",
    "qrng_values = []\n",
    "for bit_string in qrng[0]:  # Assuming the binary strings are in the first column\n",
    "    qrng_values.extend([int(bit) for bit in bit_string])  # Convert each bit to integer\n",
    "\n",
    "# Count the number of 0s and 1s\n",
    "observed_counts = [qrng_values.count(0), qrng_values.count(1)]\n",
    "\n",
    "# Expected counts (for uniform distribution, 50% 0s, 50% 1s)\n",
    "n = len(qrng_values)\n",
    "expected_counts = [n / 2, n / 2]\n",
    "\n",
    "# Perform Chi-Square goodness-of-fit test\n",
    "chi2_stat, p_value = stats.chisquare(f_obs=observed_counts, f_exp=expected_counts)\n",
    "\n",
    "# Output the results\n",
    "print(f\"IBM Brisbane QRNG Data:\")\n",
    "print(f\"Chi-Square Statistic: {chi2_stat}\")\n",
    "print(f\"p-value: {p_value}\")\n",
    "print(f\"Observed Counts: {observed_counts}\")\n",
    "print(f\"Expected Counts: {expected_counts}\")"
   ]
  },
  {
   "cell_type": "code",
   "execution_count": 5,
   "metadata": {},
   "outputs": [
    {
     "name": "stdout",
     "output_type": "stream",
     "text": [
      "IBM Kyiv QRNG Data:\n",
      "Chi-Square Statistic: 835.914272\n",
      "p-value: 8.391959029715846e-184\n",
      "Observed Counts: [1020444, 979556]\n",
      "Expected Counts: [1000000.0, 1000000.0]\n"
     ]
    }
   ],
   "source": [
    "import scipy.stats as stats\n",
    "import pandas as pd\n",
    "import numpy as np\n",
    "\n",
    "# Load QRNG data (assuming it is stored as binary strings in each row)\n",
    "qrng = pd.read_csv('data/QRNG_ibm_kyiv.txt', header=None, dtype=str)\n",
    "\n",
    "# Convert the binary strings to a list of integers (0s and 1s)\n",
    "qrng_values = []\n",
    "for bit_string in qrng[0]:  # Assuming the binary strings are in the first column\n",
    "    qrng_values.extend([int(bit) for bit in bit_string])  # Convert each bit to integer\n",
    "\n",
    "# Count the number of 0s and 1s\n",
    "observed_counts = [qrng_values.count(0), qrng_values.count(1)]\n",
    "\n",
    "# Expected counts (for uniform distribution, 50% 0s, 50% 1s)\n",
    "n = len(qrng_values)\n",
    "expected_counts = [n / 2, n / 2]\n",
    "\n",
    "# Perform Chi-Square goodness-of-fit test\n",
    "chi2_stat, p_value = stats.chisquare(f_obs=observed_counts, f_exp=expected_counts)\n",
    "\n",
    "# Output the results\n",
    "print(f\"IBM Kyiv QRNG Data:\")\n",
    "print(f\"Chi-Square Statistic: {chi2_stat}\")\n",
    "print(f\"p-value: {p_value}\")\n",
    "print(f\"Observed Counts: {observed_counts}\")\n",
    "print(f\"Expected Counts: {expected_counts}\")"
   ]
  },
  {
   "cell_type": "code",
   "execution_count": 29,
   "metadata": {},
   "outputs": [
    {
     "name": "stdout",
     "output_type": "stream",
     "text": [
      "IBM Sherbrooke QRNG Data:\n",
      "Chi-Square Statistic: 80.619602\n",
      "p-value: 2.7363161833463346e-19\n",
      "Observed Counts: [1006349, 993651]\n",
      "Expected Counts: [1000000.0, 1000000.0]\n",
      "IBM Brisbane QRNG Data:\n",
      "Chi-Square Statistic: 233.323202\n",
      "p-value: 1.1236465559101107e-52\n",
      "Observed Counts: [989199, 1010801]\n",
      "Expected Counts: [1000000.0, 1000000.0]\n",
      "IBM Kyiv QRNG Data:\n",
      "Chi-Square Statistic: 835.914272\n",
      "p-value: 8.391959029715846e-184\n",
      "Observed Counts: [1020444, 979556]\n",
      "Expected Counts: [1000000.0, 1000000.0]\n"
     ]
    }
   ],
   "source": [
    "import scipy.stats as stats\n",
    "import pandas as pd\n",
    "import numpy as np\n",
    "\n",
    "# Load QRNG data (assuming it is stored as binary strings in each row)\n",
    "qrng = pd.read_csv('data/QRNG_ibm_sherbrooke.txt', header=None, dtype=str)\n",
    "def stat(qrng, name):\n",
    "    # Convert the binary strings to a list of integers (0s and 1s)\n",
    "    qrng_values = []\n",
    "    for bit_string in qrng[0]:  # Assuming the binary strings are in the first column\n",
    "        qrng_values.extend([int(bit) for bit in bit_string])  # Convert each bit to integer\n",
    "\n",
    "    # Count the number of 0s and 1s\n",
    "    observed_counts = [qrng_values.count(0), qrng_values.count(1)]\n",
    "\n",
    "    # Expected counts (for uniform distribution, 50% 0s, 50% 1s)\n",
    "    n = len(qrng_values)\n",
    "    expected_counts = [n / 2, n / 2]\n",
    "\n",
    "    # Perform Chi-Square goodness-of-fit test\n",
    "    chi2_stat, p_value = stats.chisquare(f_obs=observed_counts, f_exp=expected_counts)\n",
    "\n",
    "    # Output the results\n",
    "    print(f\"IBM {name} QRNG Data:\")\n",
    "    print(f\"Chi-Square Statistic: {chi2_stat}\")\n",
    "    print(f\"p-value: {p_value}\")\n",
    "    print(f\"Observed Counts: {observed_counts}\")\n",
    "    print(f\"Expected Counts: {expected_counts}\")\n",
    "\n",
    "stat(pd.read_csv('data/QRNG_ibm_sherbrooke.txt', header=None, dtype=str), 'Sherbrooke')\n",
    "stat(pd.read_csv('data/QRNG_ibm_brisbane.txt', header=None, dtype=str), 'Brisbane')\n",
    "stat(pd.read_csv('data/QRNG_ibm_kyiv.txt', header=None, dtype=str), 'Kyiv')"
   ]
  },
  {
   "cell_type": "markdown",
   "metadata": {},
   "source": [
    "# Hashing"
   ]
  },
  {
   "cell_type": "code",
   "execution_count": 42,
   "metadata": {},
   "outputs": [
    {
     "name": "stdout",
     "output_type": "stream",
     "text": [
      "IBM Sherbrooke\n",
      "Compression ratio: 0.0574\n",
      "IBM Sherbrooke QRNG Data:\n",
      "Chi-Square Statistic: 73.99479837629653\n",
      "p-value: 7.832314447299908e-18\n",
      "Observed Counts: [2540260, 2559686]\n",
      "Expected Counts: [2549973.0, 2549973.0]\n"
     ]
    }
   ],
   "source": [
    "import hashlib\n",
    "\n",
    "qrng = pd.read_csv('data/QRNG_ibm_sherbrooke.txt', sep=\" \", header=None)\n",
    "qrng.columns = ['bits']\n",
    "qrng['bits'] = qrng['bits'].astype(str)\n",
    "qrng_ = qrng['bits'].to_numpy()\n",
    "qrng_ = qrng_.flatten()\n",
    "qrng_ = [int(i,2) for i in qrng_]\n",
    "\n",
    "def hash_quantum_outputs(input):\n",
    "    hash_object = hashlib.sha256(input.to_bytes(107 //8, byteorder='big'))\n",
    "\n",
    "    # Return the hashed output as a binary\n",
    "    return (bin(int(hash_object.hexdigest(), 16))[2:])\n",
    "\n",
    "hashed_qrng_ = list(map(hash_quantum_outputs, qrng_))\n",
    "# hashed_qrng_ = [int(i,2) for i in hashed_qrng_]\n",
    "compressibility_test(hashed_qrng_, name=\"Sherbrooke\")\n",
    "stat(pd.DataFrame(hashed_qrng_), 'Sherbrooke')"
   ]
  },
  {
   "cell_type": "code",
   "execution_count": 43,
   "metadata": {},
   "outputs": [
    {
     "name": "stdout",
     "output_type": "stream",
     "text": [
      "IBM Brisbane\n",
      "Compression ratio: 0.0575\n",
      "IBM Brisbane QRNG Data:\n",
      "Chi-Square Statistic: 53.58612412654433\n",
      "p-value: 2.475013414585237e-13\n",
      "Observed Counts: [2541592, 2558123]\n",
      "Expected Counts: [2549857.5, 2549857.5]\n"
     ]
    }
   ],
   "source": [
    "\n",
    "qrng = pd.read_csv('data/QRNG_ibm_brisbane.txt', sep=\" \", header=None)\n",
    "qrng.columns = ['bits']\n",
    "qrng['bits'] = qrng['bits'].astype(str)\n",
    "qrng_ = qrng['bits'].to_numpy()\n",
    "qrng_ = qrng_.flatten()\n",
    "qrng_ = [int(i,2) for i in qrng_]\n",
    "\n",
    "def hash_quantum_outputs(input):\n",
    "    hash_object = hashlib.sha256(input.to_bytes(107 //8, byteorder='big'))\n",
    "\n",
    "    # Return the hashed output as a binary\n",
    "    return (bin(int(hash_object.hexdigest(), 16))[2:])\n",
    "\n",
    "hashed_qrng_ = list(map(hash_quantum_outputs, qrng_))\n",
    "# hashed_qrng_ = [int(i,2) for i in hashed_qrng_]\n",
    "compressibility_test(hashed_qrng_, 'Brisbane')\n",
    "stat(pd.DataFrame(hashed_qrng_), 'Brisbane')"
   ]
  },
  {
   "cell_type": "code",
   "execution_count": 44,
   "metadata": {},
   "outputs": [
    {
     "name": "stdout",
     "output_type": "stream",
     "text": [
      "IBM Kyiv\n",
      "Compression ratio: 0.0575\n",
      "IBM Kyiv QRNG Data:\n",
      "Chi-Square Statistic: 94.64398180065585\n",
      "p-value: 2.2789807116627775e-22\n",
      "Observed Counts: [2538997, 2560967]\n",
      "Expected Counts: [2549982.0, 2549982.0]\n"
     ]
    }
   ],
   "source": [
    "\n",
    "qrng = pd.read_csv('data/QRNG_ibm_kyiv.txt', sep=\" \", header=None)\n",
    "qrng.columns = ['bits']\n",
    "qrng['bits'] = qrng['bits'].astype(str)\n",
    "qrng_ = qrng['bits'].to_numpy()\n",
    "qrng_ = qrng_.flatten()\n",
    "qrng_ = [int(i,2) for i in qrng_]\n",
    "\n",
    "def hash_quantum_outputs(input):\n",
    "    hash_object = hashlib.sha256(input.to_bytes(107 //8, byteorder='big'))\n",
    "\n",
    "    # Return the hashed output as a binary\n",
    "    return (bin(int(hash_object.hexdigest(), 16))[2:])\n",
    "\n",
    "hashed_qrng_ = list(map(hash_quantum_outputs, qrng_))\n",
    "# hashed_qrng_ = [int(i,2) for i in hashed_qrng_]\n",
    "compressibility_test(hashed_qrng_, 'Kyiv')\n",
    "stat(pd.DataFrame(hashed_qrng_), 'Kyiv')"
   ]
  }
 ],
 "metadata": {
  "kernelspec": {
   "display_name": "wigglerng-jNs1t9jR-py3.11",
   "language": "python",
   "name": "python3"
  },
  "language_info": {
   "codemirror_mode": {
    "name": "ipython",
    "version": 3
   },
   "file_extension": ".py",
   "mimetype": "text/x-python",
   "name": "python",
   "nbconvert_exporter": "python",
   "pygments_lexer": "ipython3",
   "version": "3.11.5"
  }
 },
 "nbformat": 4,
 "nbformat_minor": 2
}
